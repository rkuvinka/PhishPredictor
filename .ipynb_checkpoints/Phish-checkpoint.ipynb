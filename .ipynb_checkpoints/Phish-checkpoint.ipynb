{
 "cells": [
  {
   "cell_type": "markdown",
   "metadata": {},
   "source": [
    "<h1>Phish Song Predictor</h1>"
   ]
  },
  {
   "cell_type": "code",
   "execution_count": 1,
   "metadata": {
    "collapsed": true
   },
   "outputs": [],
   "source": [
    "from bs4 import BeautifulSoup\n",
    "import string\n",
    "import os\n",
    "%matplotlib inline\n",
    "import matplotlib.pyplot as plt\n",
    "import pandas as pd\n",
    "import numpy as np\n",
    "\n",
    "#Set up class called setlist that a two attributes, date and songlist\n",
    "class Setlist:\n",
    "    def __init__(self):\n",
    "        self.date = \"\"\n",
    "        self.songlist = [] "
   ]
  },
  {
   "cell_type": "markdown",
   "metadata": {},
   "source": [
    "<h3>Beautiful Soup Scrape</h3>\n",
    "\n",
    "Use Beautiful Soup to scrape phish.net to pull out setlists & date from html"
   ]
  },
  {
   "cell_type": "code",
   "execution_count": 18,
   "metadata": {
    "collapsed": false
   },
   "outputs": [],
   "source": [
    "dateDict = {}\n",
    "all_setlists = []\n",
    "\n",
    "#years we want to scrape\n",
    "yearRange = range(1986,2016)\n",
    "\n",
    "\n",
    "for year in yearRange:\n",
    "    soup = BeautifulSoup(open('data/{0}.html'.format(str(year)),encoding = \"ISO-8859-1\"),\"lxml\")\n",
    "    dateDivs = soup.find_all('div', attrs={'class': 'setlist'})\n",
    "    for div in dateDivs:\n",
    "        slist = Setlist()\n",
    "        link = div.h2.a\n",
    "        if link.has_attr('href'):\n",
    "            slist.date = str(link['href']).split(\"=\")[1]\n",
    "        song_groups_soup = BeautifulSoup(str(div), \"lxml\")\n",
    "        song_groups = song_groups_soup.find_all('p')\n",
    "        for group in song_groups:\n",
    "            songs_soup = BeautifulSoup(str(group), \"lxml\")\n",
    "            song_links = songs_soup.find_all('a')\n",
    "            for song_link in song_links:\n",
    "                if \"?teaseid=\" not in str(song_link):\n",
    "                    song_name = song_link['href'].replace(\"http://phish.net/song/\", \"\").replace(\"http://phish.net/faq/\", \"\").replace(\"http://www.livephish.com/\", \"\")\n",
    "                    if song_name not in slist.songlist:\n",
    "                        slist.songlist.append(song_name)\n",
    "    \n",
    "        all_setlists.append(slist)\n",
    "        \n"
   ]
  },
  {
   "cell_type": "markdown",
   "metadata": {},
   "source": [
    "<h3>Create ordered songlist</h3>"
   ]
  },
  {
   "cell_type": "code",
   "execution_count": 19,
   "metadata": {
    "collapsed": false
   },
   "outputs": [],
   "source": [
    "setlists = [i.songlist for i in all_setlists]\n",
    "dates = [i.date for i in all_setlists]"
   ]
  },
  {
   "cell_type": "code",
   "execution_count": 20,
   "metadata": {
    "collapsed": true
   },
   "outputs": [],
   "source": [
    "# song_list = open('song_list.txt', 'w')\n",
    "# for item in setlists:\n",
    "#   song_list.write(\"%s\" % item)"
   ]
  },
  {
   "cell_type": "code",
   "execution_count": 32,
   "metadata": {
    "collapsed": false
   },
   "outputs": [],
   "source": [
    "#read songs for text file\n",
    "f = open('song_list.txt', 'r')\n",
    "songs_read = f.read()"
   ]
  },
  {
   "cell_type": "markdown",
   "metadata": {},
   "source": [
    "<h3>Create Pandas df to explore data</h3>"
   ]
  },
  {
   "cell_type": "code",
   "execution_count": 22,
   "metadata": {
    "collapsed": false,
    "scrolled": true
   },
   "outputs": [],
   "source": [
    "phish1 = pd.DataFrame(setlists)\n",
    "phish2 = pd.DataFrame(dates)\n",
    "\n",
    "phish = phish2.join(phish1,  lsuffix='_caller', how=\"left\")\n",
    "columns = list(range(1, 51))\n",
    "phish.columns = [\"dates\"]+columns"
   ]
  },
  {
   "cell_type": "code",
   "execution_count": 23,
   "metadata": {
    "collapsed": false,
    "scrolled": true
   },
   "outputs": [],
   "source": [
    "# df = pd.DataFrame(setlists)\n",
    "\n",
    "# phish3 = df.transpose()\n",
    "# phish3.columns = dates\n",
    "\n",
    "# phish3[:10]\n",
    "#phish.to_csv(\"phish.csv\")"
   ]
  },
  {
   "cell_type": "code",
   "execution_count": 24,
   "metadata": {
    "collapsed": false
   },
   "outputs": [
    {
     "data": {
      "text/html": [
       "<div>\n",
       "<table border=\"1\" class=\"dataframe\">\n",
       "  <thead>\n",
       "    <tr style=\"text-align: right;\">\n",
       "      <th>dates</th>\n",
       "      <th>1986-02-03</th>\n",
       "      <th>1986-02-28</th>\n",
       "      <th>1986-04-01</th>\n",
       "      <th>1986-04-15</th>\n",
       "      <th>1986-04-29</th>\n",
       "      <th>1986-05-16</th>\n",
       "      <th>1986-05-17</th>\n",
       "      <th>1986-05-24</th>\n",
       "      <th>1986-06-01</th>\n",
       "      <th>1986-09-03</th>\n",
       "      <th>...</th>\n",
       "      <th>2015-08-16</th>\n",
       "      <th>2015-08-20</th>\n",
       "      <th>2015-08-21</th>\n",
       "      <th>2015-08-22</th>\n",
       "      <th>2015-08-23</th>\n",
       "      <th>2015-09-04</th>\n",
       "      <th>2015-09-05</th>\n",
       "      <th>2015-09-06</th>\n",
       "      <th>2015-12-30</th>\n",
       "      <th>2015-12-31</th>\n",
       "    </tr>\n",
       "  </thead>\n",
       "  <tbody>\n",
       "    <tr>\n",
       "      <th>1</th>\n",
       "      <td>slave-to-the-traffic-light</td>\n",
       "      <td>NaN</td>\n",
       "      <td>quinn-the-eskimo</td>\n",
       "      <td>acdc-bag</td>\n",
       "      <td>NaN</td>\n",
       "      <td>NaN</td>\n",
       "      <td>halleys-comet</td>\n",
       "      <td>dog-log</td>\n",
       "      <td>NaN</td>\n",
       "      <td>NaN</td>\n",
       "      <td>...</td>\n",
       "      <td>golgi-apparatus</td>\n",
       "      <td>the-bunny</td>\n",
       "      <td>simple</td>\n",
       "      <td>divided-sky</td>\n",
       "      <td>punch-you-in-the-eye</td>\n",
       "      <td>tube</td>\n",
       "      <td>no-men-in-no-mans-land</td>\n",
       "      <td>the-landlady</td>\n",
       "      <td>sample-in-a-jar</td>\n",
       "      <td>the-moma-dance</td>\n",
       "    </tr>\n",
       "    <tr>\n",
       "      <th>2</th>\n",
       "      <td>mikes-song</td>\n",
       "      <td>NaN</td>\n",
       "      <td>have-mercy</td>\n",
       "      <td>dear-mrs-reagan</td>\n",
       "      <td>NaN</td>\n",
       "      <td>NaN</td>\n",
       "      <td>back-porch-boogie-blues</td>\n",
       "      <td>halleys-comet</td>\n",
       "      <td>NaN</td>\n",
       "      <td>NaN</td>\n",
       "      <td>...</td>\n",
       "      <td>undermind</td>\n",
       "      <td>NaN</td>\n",
       "      <td>the-dogs</td>\n",
       "      <td>the-moma-dance</td>\n",
       "      <td>buffalo-bill</td>\n",
       "      <td>ghost</td>\n",
       "      <td>martian-monster</td>\n",
       "      <td>free</td>\n",
       "      <td>free</td>\n",
       "      <td>possum</td>\n",
       "    </tr>\n",
       "    <tr>\n",
       "      <th>3</th>\n",
       "      <td>daves-energy-guide</td>\n",
       "      <td>NaN</td>\n",
       "      <td>harry-hood</td>\n",
       "      <td>prep-school-hippie</td>\n",
       "      <td>NaN</td>\n",
       "      <td>NaN</td>\n",
       "      <td>NaN</td>\n",
       "      <td>back-porch-boogie-blues</td>\n",
       "      <td>NaN</td>\n",
       "      <td>NaN</td>\n",
       "      <td>...</td>\n",
       "      <td>julius</td>\n",
       "      <td>NaN</td>\n",
       "      <td>the-man-who-stepped-into-yesterday</td>\n",
       "      <td>mound</td>\n",
       "      <td>a-song-i-heard-the-ocean-sing</td>\n",
       "      <td>halleys-comet</td>\n",
       "      <td>nicu</td>\n",
       "      <td>the-moma-dance</td>\n",
       "      <td>simple</td>\n",
       "      <td>wolfmans-brother</td>\n",
       "    </tr>\n",
       "    <tr>\n",
       "      <th>4</th>\n",
       "      <td>you-enjoy-myself</td>\n",
       "      <td>NaN</td>\n",
       "      <td>the-pendulum</td>\n",
       "      <td>quinn-the-eskimo</td>\n",
       "      <td>NaN</td>\n",
       "      <td>NaN</td>\n",
       "      <td>NaN</td>\n",
       "      <td>NaN</td>\n",
       "      <td>NaN</td>\n",
       "      <td>NaN</td>\n",
       "      <td>...</td>\n",
       "      <td>555</td>\n",
       "      <td>NaN</td>\n",
       "      <td>avenu-malkenu</td>\n",
       "      <td>army-of-one</td>\n",
       "      <td>limb-by-limb</td>\n",
       "      <td>undermind</td>\n",
       "      <td>stealing-time-from-the-faulty-plan</td>\n",
       "      <td>seven-below</td>\n",
       "      <td>back-on-the-train</td>\n",
       "      <td>birds-of-a-feather</td>\n",
       "    </tr>\n",
       "    <tr>\n",
       "      <th>5</th>\n",
       "      <td>alumni-blues</td>\n",
       "      <td>NaN</td>\n",
       "      <td>daves-energy-guide</td>\n",
       "      <td>slave-to-the-traffic-light</td>\n",
       "      <td>NaN</td>\n",
       "      <td>NaN</td>\n",
       "      <td>NaN</td>\n",
       "      <td>NaN</td>\n",
       "      <td>NaN</td>\n",
       "      <td>NaN</td>\n",
       "      <td>...</td>\n",
       "      <td>nothing</td>\n",
       "      <td>NaN</td>\n",
       "      <td>free</td>\n",
       "      <td>scabbard</td>\n",
       "      <td>waiting-all-night</td>\n",
       "      <td>yarmouth-road</td>\n",
       "      <td>bouncing-around-the-room</td>\n",
       "      <td>prince-caspian</td>\n",
       "      <td>waiting-all-night</td>\n",
       "      <td>i-didnt-know</td>\n",
       "    </tr>\n",
       "    <tr>\n",
       "      <th>6</th>\n",
       "      <td>letter-to-jimmy-page</td>\n",
       "      <td>NaN</td>\n",
       "      <td>icculus</td>\n",
       "      <td>makisupa-policeman</td>\n",
       "      <td>NaN</td>\n",
       "      <td>NaN</td>\n",
       "      <td>NaN</td>\n",
       "      <td>NaN</td>\n",
       "      <td>NaN</td>\n",
       "      <td>NaN</td>\n",
       "      <td>...</td>\n",
       "      <td>no-men-in-no-mans-land</td>\n",
       "      <td>NaN</td>\n",
       "      <td>happy-birthday-to-you</td>\n",
       "      <td>sample-in-a-jar</td>\n",
       "      <td>theme-from-the-bottom</td>\n",
       "      <td>bathtub-gin</td>\n",
       "      <td>555</td>\n",
       "      <td>backwards-down-the-number-line</td>\n",
       "      <td>555</td>\n",
       "      <td>happy-birthday-to-you</td>\n",
       "    </tr>\n",
       "    <tr>\n",
       "      <th>7</th>\n",
       "      <td>prep-school-hippie</td>\n",
       "      <td>NaN</td>\n",
       "      <td>you-enjoy-myself</td>\n",
       "      <td>have-mercy</td>\n",
       "      <td>NaN</td>\n",
       "      <td>NaN</td>\n",
       "      <td>NaN</td>\n",
       "      <td>NaN</td>\n",
       "      <td>NaN</td>\n",
       "      <td>NaN</td>\n",
       "      <td>...</td>\n",
       "      <td>stash</td>\n",
       "      <td>NaN</td>\n",
       "      <td>the-wedge</td>\n",
       "      <td>tube</td>\n",
       "      <td>maze</td>\n",
       "      <td>waiting-all-night</td>\n",
       "      <td>winterqueen</td>\n",
       "      <td>the-line</td>\n",
       "      <td>roggae</td>\n",
       "      <td>martian-monster</td>\n",
       "    </tr>\n",
       "    <tr>\n",
       "      <th>8</th>\n",
       "      <td>run-like-an-antelope</td>\n",
       "      <td>NaN</td>\n",
       "      <td>help-on-the-way</td>\n",
       "      <td>all-blues</td>\n",
       "      <td>NaN</td>\n",
       "      <td>NaN</td>\n",
       "      <td>NaN</td>\n",
       "      <td>NaN</td>\n",
       "      <td>NaN</td>\n",
       "      <td>NaN</td>\n",
       "      <td>...</td>\n",
       "      <td>david-bowie</td>\n",
       "      <td>NaN</td>\n",
       "      <td>mock-song</td>\n",
       "      <td>halfway-to-the-moon</td>\n",
       "      <td>the-line</td>\n",
       "      <td>horn</td>\n",
       "      <td>split-open-and-melt</td>\n",
       "      <td>scent-of-a-mule</td>\n",
       "      <td>the-dogs</td>\n",
       "      <td>reba</td>\n",
       "    </tr>\n",
       "    <tr>\n",
       "      <th>9</th>\n",
       "      <td>tonight</td>\n",
       "      <td>NaN</td>\n",
       "      <td>slipknot</td>\n",
       "      <td>dog-log</td>\n",
       "      <td>NaN</td>\n",
       "      <td>NaN</td>\n",
       "      <td>NaN</td>\n",
       "      <td>NaN</td>\n",
       "      <td>NaN</td>\n",
       "      <td>NaN</td>\n",
       "      <td>...</td>\n",
       "      <td>possum</td>\n",
       "      <td>NaN</td>\n",
       "      <td>roggae</td>\n",
       "      <td>camel-walk</td>\n",
       "      <td>stash</td>\n",
       "      <td>the-wedge</td>\n",
       "      <td>limb-by-limb</td>\n",
       "      <td>saw-it-again</td>\n",
       "      <td>46-days</td>\n",
       "      <td>walls-of-the-cave</td>\n",
       "    </tr>\n",
       "    <tr>\n",
       "      <th>10</th>\n",
       "      <td>the-pendulum</td>\n",
       "      <td>NaN</td>\n",
       "      <td>acdc-bag</td>\n",
       "      <td>possum</td>\n",
       "      <td>NaN</td>\n",
       "      <td>NaN</td>\n",
       "      <td>NaN</td>\n",
       "      <td>NaN</td>\n",
       "      <td>NaN</td>\n",
       "      <td>NaN</td>\n",
       "      <td>...</td>\n",
       "      <td>down-with-disease</td>\n",
       "      <td>NaN</td>\n",
       "      <td>rift</td>\n",
       "      <td>how-many-people-are-you</td>\n",
       "      <td>reba</td>\n",
       "      <td>46-days</td>\n",
       "      <td>roggae</td>\n",
       "      <td>halfway-to-the-moon</td>\n",
       "      <td>chalk-dust-torture</td>\n",
       "      <td>the-wedge</td>\n",
       "    </tr>\n",
       "  </tbody>\n",
       "</table>\n",
       "<p>10 rows × 1740 columns</p>\n",
       "</div>"
      ],
      "text/plain": [
       "dates                  1986-02-03 1986-02-28          1986-04-01  \\\n",
       "1      slave-to-the-traffic-light        NaN    quinn-the-eskimo   \n",
       "2                      mikes-song        NaN          have-mercy   \n",
       "3              daves-energy-guide        NaN          harry-hood   \n",
       "4                you-enjoy-myself        NaN        the-pendulum   \n",
       "5                    alumni-blues        NaN  daves-energy-guide   \n",
       "6            letter-to-jimmy-page        NaN             icculus   \n",
       "7              prep-school-hippie        NaN    you-enjoy-myself   \n",
       "8            run-like-an-antelope        NaN     help-on-the-way   \n",
       "9                         tonight        NaN            slipknot   \n",
       "10                   the-pendulum        NaN            acdc-bag   \n",
       "\n",
       "dates                  1986-04-15 1986-04-29 1986-05-16  \\\n",
       "1                        acdc-bag        NaN        NaN   \n",
       "2                 dear-mrs-reagan        NaN        NaN   \n",
       "3              prep-school-hippie        NaN        NaN   \n",
       "4                quinn-the-eskimo        NaN        NaN   \n",
       "5      slave-to-the-traffic-light        NaN        NaN   \n",
       "6              makisupa-policeman        NaN        NaN   \n",
       "7                      have-mercy        NaN        NaN   \n",
       "8                       all-blues        NaN        NaN   \n",
       "9                         dog-log        NaN        NaN   \n",
       "10                         possum        NaN        NaN   \n",
       "\n",
       "dates               1986-05-17               1986-05-24 1986-06-01 1986-09-03  \\\n",
       "1                halleys-comet                  dog-log        NaN        NaN   \n",
       "2      back-porch-boogie-blues            halleys-comet        NaN        NaN   \n",
       "3                          NaN  back-porch-boogie-blues        NaN        NaN   \n",
       "4                          NaN                      NaN        NaN        NaN   \n",
       "5                          NaN                      NaN        NaN        NaN   \n",
       "6                          NaN                      NaN        NaN        NaN   \n",
       "7                          NaN                      NaN        NaN        NaN   \n",
       "8                          NaN                      NaN        NaN        NaN   \n",
       "9                          NaN                      NaN        NaN        NaN   \n",
       "10                         NaN                      NaN        NaN        NaN   \n",
       "\n",
       "dates          ...                        2015-08-16 2015-08-20  \\\n",
       "1              ...                   golgi-apparatus  the-bunny   \n",
       "2              ...                         undermind        NaN   \n",
       "3              ...                            julius        NaN   \n",
       "4              ...                               555        NaN   \n",
       "5              ...                           nothing        NaN   \n",
       "6              ...            no-men-in-no-mans-land        NaN   \n",
       "7              ...                             stash        NaN   \n",
       "8              ...                       david-bowie        NaN   \n",
       "9              ...                            possum        NaN   \n",
       "10             ...                 down-with-disease        NaN   \n",
       "\n",
       "dates                          2015-08-21               2015-08-22  \\\n",
       "1                                  simple              divided-sky   \n",
       "2                                the-dogs           the-moma-dance   \n",
       "3      the-man-who-stepped-into-yesterday                    mound   \n",
       "4                           avenu-malkenu              army-of-one   \n",
       "5                                    free                 scabbard   \n",
       "6                   happy-birthday-to-you          sample-in-a-jar   \n",
       "7                               the-wedge                     tube   \n",
       "8                               mock-song      halfway-to-the-moon   \n",
       "9                                  roggae               camel-walk   \n",
       "10                                   rift  how-many-people-are-you   \n",
       "\n",
       "dates                     2015-08-23         2015-09-04  \\\n",
       "1               punch-you-in-the-eye               tube   \n",
       "2                       buffalo-bill              ghost   \n",
       "3      a-song-i-heard-the-ocean-sing      halleys-comet   \n",
       "4                       limb-by-limb          undermind   \n",
       "5                  waiting-all-night      yarmouth-road   \n",
       "6              theme-from-the-bottom        bathtub-gin   \n",
       "7                               maze  waiting-all-night   \n",
       "8                           the-line               horn   \n",
       "9                              stash          the-wedge   \n",
       "10                              reba            46-days   \n",
       "\n",
       "dates                          2015-09-05                      2015-09-06  \\\n",
       "1                  no-men-in-no-mans-land                    the-landlady   \n",
       "2                         martian-monster                            free   \n",
       "3                                    nicu                  the-moma-dance   \n",
       "4      stealing-time-from-the-faulty-plan                     seven-below   \n",
       "5                bouncing-around-the-room                  prince-caspian   \n",
       "6                                     555  backwards-down-the-number-line   \n",
       "7                             winterqueen                        the-line   \n",
       "8                     split-open-and-melt                 scent-of-a-mule   \n",
       "9                            limb-by-limb                    saw-it-again   \n",
       "10                                 roggae             halfway-to-the-moon   \n",
       "\n",
       "dates          2015-12-30             2015-12-31  \n",
       "1         sample-in-a-jar         the-moma-dance  \n",
       "2                    free                 possum  \n",
       "3                  simple       wolfmans-brother  \n",
       "4       back-on-the-train     birds-of-a-feather  \n",
       "5       waiting-all-night           i-didnt-know  \n",
       "6                     555  happy-birthday-to-you  \n",
       "7                  roggae        martian-monster  \n",
       "8                the-dogs                   reba  \n",
       "9                 46-days      walls-of-the-cave  \n",
       "10     chalk-dust-torture              the-wedge  \n",
       "\n",
       "[10 rows x 1740 columns]"
      ]
     },
     "execution_count": 24,
     "metadata": {},
     "output_type": "execute_result"
    }
   ],
   "source": [
    "phish_csv = pd.read_csv('phish.csv')\n",
    "del phish_csv['Unnamed: 0']\n",
    "phish_csv = phish_csv.transpose()\n",
    "phish_csv.columns = phish_csv.iloc[0]\n",
    "phish3 = phish_csv.drop(['dates'])\n",
    "phish3 [:10]"
   ]
  },
  {
   "cell_type": "markdown",
   "metadata": {
    "collapsed": true
   },
   "source": [
    "**Set Up N-Grams lists**"
   ]
  },
  {
   "cell_type": "code",
   "execution_count": 25,
   "metadata": {
    "collapsed": false
   },
   "outputs": [
    {
     "name": "stdout",
     "output_type": "stream",
     "text": [
      "Three Grams:\n",
      "[['slave-to-the-traffic-light', 'mikes-song', 'daves-energy-guide'], ['mikes-song', 'daves-energy-guide', 'you-enjoy-myself'], ['daves-energy-guide', 'you-enjoy-myself', 'alumni-blues'], ['you-enjoy-myself', 'alumni-blues', 'letter-to-jimmy-page'], ['alumni-blues', 'letter-to-jimmy-page', 'prep-school-hippie']] \n",
      "\n",
      "Two Grams:\n",
      "[['slave-to-the-traffic-light', 'mikes-song'], ['mikes-song', 'daves-energy-guide'], ['daves-energy-guide', 'you-enjoy-myself'], ['you-enjoy-myself', 'alumni-blues'], ['alumni-blues', 'letter-to-jimmy-page']]\n"
     ]
    }
   ],
   "source": [
    "songs_ordered = []\n",
    "\n",
    "for setlist in setlists:\n",
    "    for song in setlist:\n",
    "        songs_ordered.append(song)\n",
    "\n",
    "three_grams = []\n",
    "for i in range(0,len(songs_ordered)-3):\n",
    "    three_grams.append([songs_ordered[i],songs_ordered[i+1],songs_ordered[i+2]])\n",
    "    \n",
    "two_grams = []\n",
    "for i in range(0,len(songs_ordered)-2):\n",
    "    two_grams.append([songs_ordered[i],songs_ordered[i+1]])\n",
    "\n",
    "print('Three Grams:')\n",
    "print(three_grams[:5],'\\n')\n",
    "print('Two Grams:')\n",
    "print(two_grams[:5])"
   ]
  },
  {
   "cell_type": "markdown",
   "metadata": {},
   "source": [
    "****2-Gram****"
   ]
  },
  {
   "cell_type": "code",
   "execution_count": 26,
   "metadata": {
    "collapsed": false
   },
   "outputs": [
    {
     "data": {
      "text/plain": [
       "[(('i-am-hydrogen', 'weekapaug-groove'), ('weekapaug-groove', 318)),\n",
       " (('mikes-song', 'i-am-hydrogen'), ('i-am-hydrogen', 304)),\n",
       " (('the-horse', 'silent-in-the-morning'), ('silent-in-the-morning', 156)),\n",
       " (('the-oh-kee-pa-ceremony', 'suzy-greenberg'), ('suzy-greenberg', 136)),\n",
       " (('colonel-forbins-ascent', 'fly-famous-mockingbird'),\n",
       "  ('fly-famous-mockingbird', 121))]"
      ]
     },
     "execution_count": 26,
     "metadata": {},
     "output_type": "execute_result"
    }
   ],
   "source": [
    "twolist = two_grams\n",
    "\n",
    "\n",
    "# [  \n",
    "#     ['a','g','c'],\n",
    "#     ['e','f','g'],\n",
    "#     ['e','f','e'],\n",
    "#     ['a','g','c'],\n",
    "# ]\n",
    "\n",
    "two = {}\n",
    "for i,j in twolist:\n",
    "\n",
    "    if two.get((i,j)) == None:\n",
    "        \n",
    "        two[(i,j)] = ((j,1))\n",
    "    \n",
    "    else:\n",
    "        \n",
    "        two[(i,j)]= ((j,1+int(two[(i,j)][1])))\n",
    "\n",
    "c = two.items()\n",
    "two_gram_sort = sorted(c,key=lambda x:x[1][1], reverse=True) \n",
    "two_gram_sort[:5]"
   ]
  },
  {
   "cell_type": "code",
   "execution_count": 27,
   "metadata": {
    "collapsed": false
   },
   "outputs": [],
   "source": [
    "# i= input(\"Song 1:\" )\n",
    "# j = input(\"Song 2:\" )\n",
    "# i=\"sparkle\"\n",
    "# j=\"simple\"\n",
    "\n",
    "\n",
    "def two_gram_return(i,j):\n",
    "    prediction_total = 0\n",
    "    b = (j)\n",
    "    for lookup in two_gram_sort:\n",
    "        if lookup[0][0] == b:\n",
    "            prediction_total += lookup[1][1]\n",
    "\n",
    "    print(\"\")\n",
    "    \n",
    "\n",
    "    for lookup in two_gram_sort:\n",
    "        if lookup[0][0] == b:\n",
    "            print (lookup[1][0],\" \",round(float(lookup[1][1]/prediction_total),2)*100,\"%\")\n",
    "            "
   ]
  },
  {
   "cell_type": "markdown",
   "metadata": {},
   "source": [
    "**3-Grams**"
   ]
  },
  {
   "cell_type": "code",
   "execution_count": 28,
   "metadata": {
    "collapsed": false
   },
   "outputs": [
    {
     "data": {
      "text/plain": [
       "[((('mikes-song', 'i-am-hydrogen'), 'weekapaug-groove'),\n",
       "  ('weekapaug-groove', 301)),\n",
       " ((('i-am-hydrogen', 'weekapaug-groove'), 'hold-your-head-up'),\n",
       "  ('hold-your-head-up', 15)),\n",
       " ((('tweezer', 'the-horse'), 'silent-in-the-morning'),\n",
       "  ('silent-in-the-morning', 14)),\n",
       " ((('the-lizards', 'mikes-song'), 'i-am-hydrogen'), ('i-am-hydrogen', 13)),\n",
       " ((('weekapaug-groove', 'the-horse'), 'silent-in-the-morning'),\n",
       "  ('silent-in-the-morning', 13))]"
      ]
     },
     "execution_count": 28,
     "metadata": {},
     "output_type": "execute_result"
    }
   ],
   "source": [
    "import collections\n",
    "inlist = three_grams\n",
    "\n",
    "\n",
    "new = {}\n",
    "for i,j,q in inlist:\n",
    "    if new.get(((i,j),q)) == None:\n",
    "        \n",
    "        new[((i,j),q)] = (q,1)\n",
    "    \n",
    "    else:\n",
    "        \n",
    "        new[((i,j),q)]= (q,1+int(new[((i,j),q)][1]))\n",
    "import operator\n",
    "b = new.items()\n",
    "three_gram_sort = sorted(b,key=lambda x:x[1][1], reverse=True) \n",
    "three_gram_sort[:5]"
   ]
  },
  {
   "cell_type": "code",
   "execution_count": 29,
   "metadata": {
    "collapsed": false
   },
   "outputs": [],
   "source": [
    "def predict(i,j):\n",
    "    prediction_total = 0\n",
    "\n",
    "\n",
    "    b = (i,j)\n",
    "    for lookup in three_gram_sort:\n",
    "        if lookup[0][0] == b:\n",
    "            prediction_total += lookup[1][1]\n",
    "            #print (lookup)\n",
    "    print(\"\")\n",
    "    # print(\"Song 1: %s\" % i)\n",
    "    # print(\"Song 2: %s \\n\" % j)\n",
    "    if prediction_total == 0:\n",
    "        print('No Three Grams!! \\n')\n",
    "        two_gram_return(i,j)\n",
    "    else:\n",
    "        print(\"Probable Next Song :\")\n",
    "        \n",
    "    \n",
    "    \n",
    "\n",
    "    for lookup in three_gram_sort:\n",
    "        if lookup[0][0] == b:\n",
    "            #print(\"Probable Next Song :\")\n",
    "            print (lookup[1][0],\" \",round(float(lookup[1][1]/prediction_total),2)*100,\"%\")\n",
    "    \n"
   ]
  },
  {
   "cell_type": "markdown",
   "metadata": {},
   "source": [
    "<h2>Final Predictor</h2>\n",
    "\n",
    "\n",
    "Sample Song Choices: acdc-bag, ya-mar, sparkle, letter-to-jimmy-page, tube, sample-in-a-jar, halleys-comet, ghost"
   ]
  },
  {
   "cell_type": "code",
   "execution_count": 31,
   "metadata": {
    "collapsed": false,
    "scrolled": true
   },
   "outputs": [
    {
     "name": "stdout",
     "output_type": "stream",
     "text": [
      "Song 1:\n",
      "Song 2:\n",
      "\n",
      "No Three Grams!! \n",
      "\n",
      "\n",
      "acdc-bag   8.0 %\n",
      "tube   6.0 %\n",
      "crowd-control   6.0 %\n",
      "the-moma-dance   6.0 %\n",
      "kill-devil-falls   4.0 %\n",
      "prince-caspian   4.0 %\n",
      "sample-in-a-jar   4.0 %\n",
      "stash   4.0 %\n",
      "wolfmans-brother   4.0 %\n",
      "llama   2.0 %\n",
      "the-bunny   2.0 %\n",
      "soul-shakedown-party   2.0 %\n",
      "a-song-i-heard-the-ocean-sing   2.0 %\n",
      "divided-sky   2.0 %\n",
      "the-line   2.0 %\n",
      "golgi-apparatus   2.0 %\n",
      "mikes-song   2.0 %\n",
      "http://www.secondcity.com/   2.0 %\n",
      "maze   2.0 %\n",
      "buried-alive   2.0 %\n",
      "free   2.0 %\n",
      "no-men-in-no-mans-land   2.0 %\n",
      "axilla   2.0 %\n",
      "https://en.wikipedia.org/wiki/Gene_Ween   2.0 %\n",
      "grind   2.0 %\n",
      "gumbo   2.0 %\n",
      "punch-you-in-the-eye   2.0 %\n",
      "rift   2.0 %\n",
      "the-landlady   2.0 %\n",
      "the-star-spangled-banner   2.0 %\n",
      "timber-jerry   2.0 %\n",
      "dinner-and-a-movie   2.0 %\n",
      "46-days   2.0 %\n",
      "waiting-all-night   2.0 %\n",
      "http://www.rollingstone.com/music/pictures/readers-poll-the-10-best-phish-songs-20140702/1-lushington-0013076   2.0 %\n",
      "fee   2.0 %\n",
      "the-curtain-with   2.0 %\n"
     ]
    }
   ],
   "source": [
    "i= input(\"Song 1:\" )\n",
    "j = input(\"Song 2:\" )\n",
    "predict(i,j)"
   ]
  },
  {
   "cell_type": "code",
   "execution_count": null,
   "metadata": {
    "collapsed": true
   },
   "outputs": [],
   "source": []
  },
  {
   "cell_type": "code",
   "execution_count": null,
   "metadata": {
    "collapsed": true
   },
   "outputs": [],
   "source": []
  },
  {
   "cell_type": "code",
   "execution_count": null,
   "metadata": {
    "collapsed": true
   },
   "outputs": [],
   "source": []
  },
  {
   "cell_type": "code",
   "execution_count": null,
   "metadata": {
    "collapsed": true
   },
   "outputs": [],
   "source": []
  },
  {
   "cell_type": "code",
   "execution_count": null,
   "metadata": {
    "collapsed": true
   },
   "outputs": [],
   "source": []
  },
  {
   "cell_type": "code",
   "execution_count": null,
   "metadata": {
    "collapsed": true
   },
   "outputs": [],
   "source": []
  },
  {
   "cell_type": "code",
   "execution_count": null,
   "metadata": {
    "collapsed": true
   },
   "outputs": [],
   "source": []
  },
  {
   "cell_type": "code",
   "execution_count": null,
   "metadata": {
    "collapsed": true
   },
   "outputs": [],
   "source": []
  },
  {
   "cell_type": "code",
   "execution_count": null,
   "metadata": {
    "collapsed": true
   },
   "outputs": [],
   "source": []
  }
 ],
 "metadata": {
  "kernelspec": {
   "display_name": "Python 3",
   "language": "python",
   "name": "python3"
  },
  "language_info": {
   "codemirror_mode": {
    "name": "ipython",
    "version": 3
   },
   "file_extension": ".py",
   "mimetype": "text/x-python",
   "name": "python",
   "nbconvert_exporter": "python",
   "pygments_lexer": "ipython3",
   "version": "3.5.2"
  }
 },
 "nbformat": 4,
 "nbformat_minor": 0
}
